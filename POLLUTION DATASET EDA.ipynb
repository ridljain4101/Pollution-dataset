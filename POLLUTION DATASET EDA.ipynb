{
 "cells": [
  {
   "cell_type": "markdown",
   "id": "45b5b6d7",
   "metadata": {},
   "source": [
    "# Pollution dataset practise"
   ]
  },
  {
   "cell_type": "code",
   "execution_count": 25,
   "id": "a1373cd9",
   "metadata": {},
   "outputs": [],
   "source": [
    "import numpy as np\n",
    "import pandas as pd\n",
    "import matplotlib \n",
    "import matplotlib.pyplot as plt\n",
    "import seaborn as sns\n",
    "%matplotlib inline"
   ]
  },
  {
   "cell_type": "code",
   "execution_count": 26,
   "id": "a4124da0",
   "metadata": {},
   "outputs": [
    {
     "data": {
      "text/html": [
       "<div>\n",
       "<style scoped>\n",
       "    .dataframe tbody tr th:only-of-type {\n",
       "        vertical-align: middle;\n",
       "    }\n",
       "\n",
       "    .dataframe tbody tr th {\n",
       "        vertical-align: top;\n",
       "    }\n",
       "\n",
       "    .dataframe thead th {\n",
       "        text-align: right;\n",
       "    }\n",
       "</style>\n",
       "<table border=\"1\" class=\"dataframe\">\n",
       "  <thead>\n",
       "    <tr style=\"text-align: right;\">\n",
       "      <th></th>\n",
       "      <th>City</th>\n",
       "      <th>NO2</th>\n",
       "      <th>PM10</th>\n",
       "      <th>SO2</th>\n",
       "      <th>State</th>\n",
       "    </tr>\n",
       "  </thead>\n",
       "  <tbody>\n",
       "    <tr>\n",
       "      <th>0</th>\n",
       "      <td>Chitoor</td>\n",
       "      <td>9</td>\n",
       "      <td>39</td>\n",
       "      <td>4</td>\n",
       "      <td>Andhra Pradesh</td>\n",
       "    </tr>\n",
       "    <tr>\n",
       "      <th>1</th>\n",
       "      <td>Guntur</td>\n",
       "      <td>11</td>\n",
       "      <td>81</td>\n",
       "      <td>2</td>\n",
       "      <td>Andhra Pradesh</td>\n",
       "    </tr>\n",
       "    <tr>\n",
       "      <th>2</th>\n",
       "      <td>Hydrabad</td>\n",
       "      <td>24</td>\n",
       "      <td>79</td>\n",
       "      <td>5</td>\n",
       "      <td>Andhra Pradesh</td>\n",
       "    </tr>\n",
       "    <tr>\n",
       "      <th>3</th>\n",
       "      <td>Kothagudem</td>\n",
       "      <td>11</td>\n",
       "      <td>62</td>\n",
       "      <td>2</td>\n",
       "      <td>Andhra Pradesh</td>\n",
       "    </tr>\n",
       "    <tr>\n",
       "      <th>4</th>\n",
       "      <td>Kurnool</td>\n",
       "      <td>9</td>\n",
       "      <td>85</td>\n",
       "      <td>4</td>\n",
       "      <td>Andhra Pradesh</td>\n",
       "    </tr>\n",
       "  </tbody>\n",
       "</table>\n",
       "</div>"
      ],
      "text/plain": [
       "         City NO2 PM10 SO2           State\n",
       "0     Chitoor   9   39   4  Andhra Pradesh\n",
       "1      Guntur  11   81   2  Andhra Pradesh\n",
       "2    Hydrabad  24   79   5  Andhra Pradesh\n",
       "3  Kothagudem  11   62   2  Andhra Pradesh\n",
       "4     Kurnool   9   85   4  Andhra Pradesh"
      ]
     },
     "execution_count": 26,
     "metadata": {},
     "output_type": "execute_result"
    }
   ],
   "source": [
    "df=pd.read_csv('C:/Users/RIDHIM/Downloads/pollution.csv')\n",
    "df.head()"
   ]
  },
  {
   "cell_type": "code",
   "execution_count": 27,
   "id": "a816beda",
   "metadata": {},
   "outputs": [
    {
     "data": {
      "text/plain": [
       "City     object\n",
       "NO2      object\n",
       "PM10     object\n",
       "SO2      object\n",
       "State    object\n",
       "dtype: object"
      ]
     },
     "execution_count": 27,
     "metadata": {},
     "output_type": "execute_result"
    }
   ],
   "source": [
    "df.dtypes"
   ]
  },
  {
   "cell_type": "markdown",
   "id": "969de3c1",
   "metadata": {},
   "source": [
    "## a useful application now, to convert Null to NaN(actual null which is useful)"
   ]
  },
  {
   "cell_type": "code",
   "execution_count": 28,
   "id": "533d22c6",
   "metadata": {},
   "outputs": [
    {
     "data": {
      "text/plain": [
       "City        Bilaspur\n",
       "NO2               19\n",
       "PM10            Null\n",
       "SO2                8\n",
       "State    Chattisgarh\n",
       "Name: 28, dtype: object"
      ]
     },
     "execution_count": 28,
     "metadata": {},
     "output_type": "execute_result"
    }
   ],
   "source": [
    "## here we see that we have the PM10 value as Null in thisr row.\n",
    "df.loc[28,:] "
   ]
  },
  {
   "cell_type": "code",
   "execution_count": 29,
   "id": "669100dd",
   "metadata": {},
   "outputs": [],
   "source": [
    "## so we set that Null to NaN so that we can perform/drop such rows easily later on\n",
    "df.loc[28,'PM10']= np.nan"
   ]
  },
  {
   "cell_type": "code",
   "execution_count": 30,
   "id": "00cf719e",
   "metadata": {},
   "outputs": [
    {
     "data": {
      "text/plain": [
       "City        Bilaspur\n",
       "NO2               19\n",
       "PM10             NaN\n",
       "SO2                8\n",
       "State    Chattisgarh\n",
       "Name: 28, dtype: object"
      ]
     },
     "execution_count": 30,
     "metadata": {},
     "output_type": "execute_result"
    }
   ],
   "source": [
    "## we see that the PM10 values gets converted to NaN(useful null)\n",
    "df.loc[28,:]"
   ]
  },
  {
   "cell_type": "code",
   "execution_count": 31,
   "id": "93255f17",
   "metadata": {},
   "outputs": [
    {
     "data": {
      "text/plain": [
       "City        Haldwani\n",
       "NO2              NaN\n",
       "PM10             196\n",
       "SO2              NaN\n",
       "State    Uttarakhand\n",
       "Name: 168, dtype: object"
      ]
     },
     "execution_count": 31,
     "metadata": {},
     "output_type": "execute_result"
    }
   ],
   "source": [
    "df.loc[[168,169,170,171],['NO2','SO2']]=np.nan\n",
    "df.loc[168,:]"
   ]
  },
  {
   "cell_type": "code",
   "execution_count": 32,
   "id": "11c2c8eb",
   "metadata": {},
   "outputs": [
    {
     "data": {
      "text/html": [
       "<div>\n",
       "<style scoped>\n",
       "    .dataframe tbody tr th:only-of-type {\n",
       "        vertical-align: middle;\n",
       "    }\n",
       "\n",
       "    .dataframe tbody tr th {\n",
       "        vertical-align: top;\n",
       "    }\n",
       "\n",
       "    .dataframe thead th {\n",
       "        text-align: right;\n",
       "    }\n",
       "</style>\n",
       "<table border=\"1\" class=\"dataframe\">\n",
       "  <thead>\n",
       "    <tr style=\"text-align: right;\">\n",
       "      <th></th>\n",
       "      <th>City</th>\n",
       "      <th>NO2</th>\n",
       "      <th>PM10</th>\n",
       "      <th>SO2</th>\n",
       "      <th>State</th>\n",
       "    </tr>\n",
       "  </thead>\n",
       "  <tbody>\n",
       "    <tr>\n",
       "      <th>116</th>\n",
       "      <td>Byrnihat</td>\n",
       "      <td>15</td>\n",
       "      <td>175</td>\n",
       "      <td>Null</td>\n",
       "      <td>Meghalaya</td>\n",
       "    </tr>\n",
       "  </tbody>\n",
       "</table>\n",
       "</div>"
      ],
      "text/plain": [
       "         City NO2 PM10   SO2      State\n",
       "116  Byrnihat  15  175  Null  Meghalaya"
      ]
     },
     "execution_count": 32,
     "metadata": {},
     "output_type": "execute_result"
    }
   ],
   "source": [
    "df.loc[df['SO2']=='Null',:]\n",
    "##converting this Null to NaN as well"
   ]
  },
  {
   "cell_type": "code",
   "execution_count": 33,
   "id": "0889b960",
   "metadata": {},
   "outputs": [],
   "source": [
    "df.loc[116,['SO2']]=np.nan"
   ]
  },
  {
   "cell_type": "code",
   "execution_count": 34,
   "id": "2379b23d",
   "metadata": {},
   "outputs": [
    {
     "data": {
      "text/plain": [
       "City      Byrnihat\n",
       "NO2             15\n",
       "PM10           175\n",
       "SO2            NaN\n",
       "State    Meghalaya\n",
       "Name: 116, dtype: object"
      ]
     },
     "execution_count": 34,
     "metadata": {},
     "output_type": "execute_result"
    }
   ],
   "source": [
    "df.loc[116,:]"
   ]
  },
  {
   "cell_type": "code",
   "execution_count": 35,
   "id": "b0daae80",
   "metadata": {},
   "outputs": [
    {
     "data": {
      "text/html": [
       "<div>\n",
       "<style scoped>\n",
       "    .dataframe tbody tr th:only-of-type {\n",
       "        vertical-align: middle;\n",
       "    }\n",
       "\n",
       "    .dataframe tbody tr th {\n",
       "        vertical-align: top;\n",
       "    }\n",
       "\n",
       "    .dataframe thead th {\n",
       "        text-align: right;\n",
       "    }\n",
       "</style>\n",
       "<table border=\"1\" class=\"dataframe\">\n",
       "  <thead>\n",
       "    <tr style=\"text-align: right;\">\n",
       "      <th></th>\n",
       "      <th>City</th>\n",
       "      <th>NO2</th>\n",
       "      <th>PM10</th>\n",
       "      <th>SO2</th>\n",
       "      <th>State</th>\n",
       "    </tr>\n",
       "  </thead>\n",
       "  <tbody>\n",
       "  </tbody>\n",
       "</table>\n",
       "</div>"
      ],
      "text/plain": [
       "Empty DataFrame\n",
       "Columns: [City, NO2, PM10, SO2, State]\n",
       "Index: []"
      ]
     },
     "execution_count": 35,
     "metadata": {},
     "output_type": "execute_result"
    }
   ],
   "source": [
    "df.loc[df['NO2']=='Null',:]\n",
    "\n",
    "## no such values left"
   ]
  },
  {
   "cell_type": "code",
   "execution_count": 36,
   "id": "4e5c9f56",
   "metadata": {},
   "outputs": [
    {
     "data": {
      "text/html": [
       "<div>\n",
       "<style scoped>\n",
       "    .dataframe tbody tr th:only-of-type {\n",
       "        vertical-align: middle;\n",
       "    }\n",
       "\n",
       "    .dataframe tbody tr th {\n",
       "        vertical-align: top;\n",
       "    }\n",
       "\n",
       "    .dataframe thead th {\n",
       "        text-align: right;\n",
       "    }\n",
       "</style>\n",
       "<table border=\"1\" class=\"dataframe\">\n",
       "  <thead>\n",
       "    <tr style=\"text-align: right;\">\n",
       "      <th></th>\n",
       "      <th>City</th>\n",
       "      <th>NO2</th>\n",
       "      <th>PM10</th>\n",
       "      <th>SO2</th>\n",
       "      <th>State</th>\n",
       "    </tr>\n",
       "  </thead>\n",
       "  <tbody>\n",
       "  </tbody>\n",
       "</table>\n",
       "</div>"
      ],
      "text/plain": [
       "Empty DataFrame\n",
       "Columns: [City, NO2, PM10, SO2, State]\n",
       "Index: []"
      ]
     },
     "execution_count": 36,
     "metadata": {},
     "output_type": "execute_result"
    }
   ],
   "source": [
    "df.loc[df['PM10']=='Null',:]\n",
    "\n",
    "##no succh values left"
   ]
  },
  {
   "cell_type": "markdown",
   "id": "5fdb2b82",
   "metadata": {},
   "source": [
    "## dropping all the rows with null values in any of the columns."
   ]
  },
  {
   "cell_type": "code",
   "execution_count": 40,
   "id": "e5b6b454",
   "metadata": {},
   "outputs": [],
   "source": [
    "df.dropna(how='any',axis=0,inplace=True)\n",
    "\n",
    "## dropping all such rows"
   ]
  },
  {
   "cell_type": "code",
   "execution_count": 41,
   "id": "fbe1c7e3",
   "metadata": {},
   "outputs": [
    {
     "data": {
      "text/plain": [
       "(175, 5)"
      ]
     },
     "execution_count": 41,
     "metadata": {},
     "output_type": "execute_result"
    }
   ],
   "source": [
    "df.shape\n",
    "\n",
    "##new dataframe shape."
   ]
  },
  {
   "cell_type": "markdown",
   "id": "f975ecf7",
   "metadata": {},
   "source": [
    "## converting the numerical columns datatype to numeric"
   ]
  },
  {
   "cell_type": "code",
   "execution_count": 43,
   "id": "b600427a",
   "metadata": {},
   "outputs": [],
   "source": [
    "df[['NO2','SO2','PM10']] = df[['NO2','SO2','PM10']].apply(pd.to_numeric)"
   ]
  },
  {
   "cell_type": "code",
   "execution_count": 44,
   "id": "a2d47413",
   "metadata": {},
   "outputs": [
    {
     "data": {
      "text/plain": [
       "City     object\n",
       "NO2       int64\n",
       "PM10      int64\n",
       "SO2       int64\n",
       "State    object\n",
       "dtype: object"
      ]
     },
     "execution_count": 44,
     "metadata": {},
     "output_type": "execute_result"
    }
   ],
   "source": [
    "df.dtypes"
   ]
  },
  {
   "cell_type": "code",
   "execution_count": 45,
   "id": "2cbe86d5",
   "metadata": {},
   "outputs": [
    {
     "data": {
      "text/plain": [
       "NO2      75\n",
       "SO2      60\n",
       "PM10    308\n",
       "dtype: int64"
      ]
     },
     "execution_count": 45,
     "metadata": {},
     "output_type": "execute_result"
    }
   ],
   "source": [
    "df[['NO2','SO2','PM10']].max()\n",
    "\n",
    "##finding max values in these categories."
   ]
  },
  {
   "cell_type": "markdown",
   "id": "f09209ce",
   "metadata": {},
   "source": [
    "## plotting pollution values(NO2 AND SO2) for all the states USING A barplot."
   ]
  },
  {
   "cell_type": "code",
   "execution_count": 69,
   "id": "fa91be7c",
   "metadata": {},
   "outputs": [
    {
     "name": "stderr",
     "output_type": "stream",
     "text": [
      "C:\\Users\\RIDHIM\\AppData\\Local\\Temp/ipykernel_19252/3274385905.py:12: UserWarning: FixedFormatter should only be used together with FixedLocator\n",
      "  ax1.set_xticklabels(x,rotation='vertical', size=8,color='b')\n"
     ]
    },
    {
     "data": {
      "image/png": "[encoded data removed]",
      "text/plain": [
       "<Figure size 432x288 with 2 Axes>"
      ]
     },
     "metadata": {
      "needs_background": "light"
     },
     "output_type": "display_data"
    }
   ],
   "source": [
    "fig, ax1 = plt.subplots()\n",
    "\n",
    "x = df['State'].unique()\n",
    "\n",
    "ax2 = ax1.twinx()\n",
    "ax1.bar(df['State'],df['NO2'], color='g')\n",
    "ax2.bar(df['State'],df['SO2'], color='r')\n",
    "\n",
    "ax1.set_xlabel('STATE',color='b')\n",
    "ax1.set_ylabel('NO2', color='g')\n",
    "ax2.set_ylabel('SO2', color='r')\n",
    "ax1.set_xticklabels(x,rotation='vertical', size=8,color='b')\n",
    "ax1.set_title('POLLUTION LEVELS')\n",
    "ax1.grid()\n"
   ]
  },
  {
   "cell_type": "markdown",
   "id": "cc871dd1",
   "metadata": {},
   "source": [
    "## now we will plot all the State -- pollution values in an uptrend/increasing manner "
   ]
  },
  {
   "cell_type": "code",
   "execution_count": 117,
   "id": "192cd792",
   "metadata": {},
   "outputs": [
    {
     "data": {
      "text/html": [
       "<div>\n",
       "<style scoped>\n",
       "    .dataframe tbody tr th:only-of-type {\n",
       "        vertical-align: middle;\n",
       "    }\n",
       "\n",
       "    .dataframe tbody tr th {\n",
       "        vertical-align: top;\n",
       "    }\n",
       "\n",
       "    .dataframe thead th {\n",
       "        text-align: right;\n",
       "    }\n",
       "</style>\n",
       "<table border=\"1\" class=\"dataframe\">\n",
       "  <thead>\n",
       "    <tr style=\"text-align: right;\">\n",
       "      <th></th>\n",
       "      <th>NO2</th>\n",
       "      <th>PM10</th>\n",
       "      <th>SO2</th>\n",
       "      <th>STATE</th>\n",
       "    </tr>\n",
       "    <tr>\n",
       "      <th>State</th>\n",
       "      <th></th>\n",
       "      <th></th>\n",
       "      <th></th>\n",
       "      <th></th>\n",
       "    </tr>\n",
       "  </thead>\n",
       "  <tbody>\n",
       "    <tr>\n",
       "      <th>Mizoram</th>\n",
       "      <td>6</td>\n",
       "      <td>42</td>\n",
       "      <td>2</td>\n",
       "      <td>Mizoram</td>\n",
       "    </tr>\n",
       "    <tr>\n",
       "      <th>Nagaland</th>\n",
       "      <td>12</td>\n",
       "      <td>142</td>\n",
       "      <td>4</td>\n",
       "      <td>Nagaland</td>\n",
       "    </tr>\n",
       "    <tr>\n",
       "      <th>Puducherry</th>\n",
       "      <td>13</td>\n",
       "      <td>38</td>\n",
       "      <td>6</td>\n",
       "      <td>Puducherry</td>\n",
       "    </tr>\n",
       "    <tr>\n",
       "      <th>Jammu and Kashmir</th>\n",
       "      <td>15</td>\n",
       "      <td>115</td>\n",
       "      <td>7</td>\n",
       "      <td>Jammu and Kashmir</td>\n",
       "    </tr>\n",
       "    <tr>\n",
       "      <th>Chandigarh</th>\n",
       "      <td>16</td>\n",
       "      <td>92</td>\n",
       "      <td>2</td>\n",
       "      <td>Chandigarh</td>\n",
       "    </tr>\n",
       "    <tr>\n",
       "      <th>Dadra and Nagar Haveli</th>\n",
       "      <td>18</td>\n",
       "      <td>39</td>\n",
       "      <td>7</td>\n",
       "      <td>Dadra and Nagar Haveli</td>\n",
       "    </tr>\n",
       "    <tr>\n",
       "      <th>Daman and Diu</th>\n",
       "      <td>18</td>\n",
       "      <td>35</td>\n",
       "      <td>7</td>\n",
       "      <td>Daman and Diu</td>\n",
       "    </tr>\n",
       "    <tr>\n",
       "      <th>Meghalaya</th>\n",
       "      <td>25</td>\n",
       "      <td>213</td>\n",
       "      <td>6</td>\n",
       "      <td>Meghalaya</td>\n",
       "    </tr>\n",
       "    <tr>\n",
       "      <th>Uttarakhand</th>\n",
       "      <td>30</td>\n",
       "      <td>162</td>\n",
       "      <td>28</td>\n",
       "      <td>Uttarakhand</td>\n",
       "    </tr>\n",
       "    <tr>\n",
       "      <th>Bihar</th>\n",
       "      <td>40</td>\n",
       "      <td>181</td>\n",
       "      <td>7</td>\n",
       "      <td>Bihar</td>\n",
       "    </tr>\n",
       "    <tr>\n",
       "      <th>Delhi</th>\n",
       "      <td>55</td>\n",
       "      <td>261</td>\n",
       "      <td>5</td>\n",
       "      <td>Delhi</td>\n",
       "    </tr>\n",
       "    <tr>\n",
       "      <th>Haryana</th>\n",
       "      <td>63</td>\n",
       "      <td>520</td>\n",
       "      <td>38</td>\n",
       "      <td>Haryana</td>\n",
       "    </tr>\n",
       "    <tr>\n",
       "      <th>Chattisgarh</th>\n",
       "      <td>86</td>\n",
       "      <td>502</td>\n",
       "      <td>37</td>\n",
       "      <td>Chattisgarh</td>\n",
       "    </tr>\n",
       "    <tr>\n",
       "      <th>Tamilnadu</th>\n",
       "      <td>105</td>\n",
       "      <td>388</td>\n",
       "      <td>45</td>\n",
       "      <td>Tamilnadu</td>\n",
       "    </tr>\n",
       "    <tr>\n",
       "      <th>HimachalPradesh</th>\n",
       "      <td>105</td>\n",
       "      <td>615</td>\n",
       "      <td>20</td>\n",
       "      <td>HimachalPradesh</td>\n",
       "    </tr>\n",
       "    <tr>\n",
       "      <th>Karnataka</th>\n",
       "      <td>130</td>\n",
       "      <td>416</td>\n",
       "      <td>51</td>\n",
       "      <td>Karnataka</td>\n",
       "    </tr>\n",
       "    <tr>\n",
       "      <th>Kerala</th>\n",
       "      <td>132</td>\n",
       "      <td>463</td>\n",
       "      <td>37</td>\n",
       "      <td>Kerala</td>\n",
       "    </tr>\n",
       "    <tr>\n",
       "      <th>Rajasthan</th>\n",
       "      <td>146</td>\n",
       "      <td>818</td>\n",
       "      <td>36</td>\n",
       "      <td>Rajasthan</td>\n",
       "    </tr>\n",
       "    <tr>\n",
       "      <th>Orissa</th>\n",
       "      <td>154</td>\n",
       "      <td>728</td>\n",
       "      <td>37</td>\n",
       "      <td>Orissa</td>\n",
       "    </tr>\n",
       "    <tr>\n",
       "      <th>Gujarat</th>\n",
       "      <td>166</td>\n",
       "      <td>621</td>\n",
       "      <td>105</td>\n",
       "      <td>Gujarat</td>\n",
       "    </tr>\n",
       "    <tr>\n",
       "      <th>Assam</th>\n",
       "      <td>177</td>\n",
       "      <td>834</td>\n",
       "      <td>74</td>\n",
       "      <td>Assam</td>\n",
       "    </tr>\n",
       "    <tr>\n",
       "      <th>MadhyaPradesh</th>\n",
       "      <td>178</td>\n",
       "      <td>1275</td>\n",
       "      <td>102</td>\n",
       "      <td>MadhyaPradesh</td>\n",
       "    </tr>\n",
       "    <tr>\n",
       "      <th>Andhra Pradesh</th>\n",
       "      <td>183</td>\n",
       "      <td>893</td>\n",
       "      <td>60</td>\n",
       "      <td>Andhra Pradesh</td>\n",
       "    </tr>\n",
       "    <tr>\n",
       "      <th>Goa</th>\n",
       "      <td>217</td>\n",
       "      <td>893</td>\n",
       "      <td>118</td>\n",
       "      <td>Goa</td>\n",
       "    </tr>\n",
       "    <tr>\n",
       "      <th>Punjab</th>\n",
       "      <td>257</td>\n",
       "      <td>1723</td>\n",
       "      <td>101</td>\n",
       "      <td>Punjab</td>\n",
       "    </tr>\n",
       "    <tr>\n",
       "      <th>Jharkhand</th>\n",
       "      <td>271</td>\n",
       "      <td>1391</td>\n",
       "      <td>158</td>\n",
       "      <td>Jharkhand</td>\n",
       "    </tr>\n",
       "    <tr>\n",
       "      <th>UttarPradesh</th>\n",
       "      <td>418</td>\n",
       "      <td>2440</td>\n",
       "      <td>189</td>\n",
       "      <td>UttarPradesh</td>\n",
       "    </tr>\n",
       "    <tr>\n",
       "      <th>West Bengal</th>\n",
       "      <td>579</td>\n",
       "      <td>1018</td>\n",
       "      <td>90</td>\n",
       "      <td>West Bengal</td>\n",
       "    </tr>\n",
       "    <tr>\n",
       "      <th>Maharashtra</th>\n",
       "      <td>619</td>\n",
       "      <td>1834</td>\n",
       "      <td>368</td>\n",
       "      <td>Maharashtra</td>\n",
       "    </tr>\n",
       "  </tbody>\n",
       "</table>\n",
       "</div>"
      ],
      "text/plain": [
       "                        NO2  PM10  SO2                   STATE\n",
       "State                                                         \n",
       "Mizoram                   6    42    2                 Mizoram\n",
       "Nagaland                 12   142    4                Nagaland\n",
       "Puducherry               13    38    6              Puducherry\n",
       "Jammu and Kashmir        15   115    7       Jammu and Kashmir\n",
       "Chandigarh               16    92    2              Chandigarh\n",
       "Dadra and Nagar Haveli   18    39    7  Dadra and Nagar Haveli\n",
       "Daman and Diu            18    35    7           Daman and Diu\n",
       "Meghalaya                25   213    6               Meghalaya\n",
       "Uttarakhand              30   162   28             Uttarakhand\n",
       "Bihar                    40   181    7                   Bihar\n",
       "Delhi                    55   261    5                   Delhi\n",
       "Haryana                  63   520   38                 Haryana\n",
       "Chattisgarh              86   502   37             Chattisgarh\n",
       "Tamilnadu               105   388   45               Tamilnadu\n",
       "HimachalPradesh         105   615   20         HimachalPradesh\n",
       "Karnataka               130   416   51               Karnataka\n",
       "Kerala                  132   463   37                  Kerala\n",
       "Rajasthan               146   818   36               Rajasthan\n",
       "Orissa                  154   728   37                  Orissa\n",
       "Gujarat                 166   621  105                 Gujarat\n",
       "Assam                   177   834   74                   Assam\n",
       "MadhyaPradesh           178  1275  102           MadhyaPradesh\n",
       "Andhra Pradesh          183   893   60          Andhra Pradesh\n",
       "Goa                     217   893  118                     Goa\n",
       "Punjab                  257  1723  101                  Punjab\n",
       "Jharkhand               271  1391  158               Jharkhand\n",
       "UttarPradesh            418  2440  189            UttarPradesh\n",
       "West Bengal             579  1018   90             West Bengal\n",
       "Maharashtra             619  1834  368             Maharashtra"
      ]
     },
     "execution_count": 117,
     "metadata": {},
     "output_type": "execute_result"
    }
   ],
   "source": [
    "a = df.groupby('State').sum().sort_values('NO2')\n",
    "a['STATE'] = a.index\n",
    "a\n"
   ]
  },
  {
   "cell_type": "code",
   "execution_count": 119,
   "id": "a90a6161",
   "metadata": {},
   "outputs": [
    {
     "data": {
      "text/html": [
       "<div>\n",
       "<style scoped>\n",
       "    .dataframe tbody tr th:only-of-type {\n",
       "        vertical-align: middle;\n",
       "    }\n",
       "\n",
       "    .dataframe tbody tr th {\n",
       "        vertical-align: top;\n",
       "    }\n",
       "\n",
       "    .dataframe thead th {\n",
       "        text-align: right;\n",
       "    }\n",
       "</style>\n",
       "<table border=\"1\" class=\"dataframe\">\n",
       "  <thead>\n",
       "    <tr style=\"text-align: right;\">\n",
       "      <th></th>\n",
       "      <th>NO2</th>\n",
       "      <th>PM10</th>\n",
       "      <th>SO2</th>\n",
       "      <th>STATE</th>\n",
       "    </tr>\n",
       "    <tr>\n",
       "      <th>State</th>\n",
       "      <th></th>\n",
       "      <th></th>\n",
       "      <th></th>\n",
       "      <th></th>\n",
       "    </tr>\n",
       "  </thead>\n",
       "  <tbody>\n",
       "    <tr>\n",
       "      <th>Mizoram</th>\n",
       "      <td>6</td>\n",
       "      <td>42</td>\n",
       "      <td>2</td>\n",
       "      <td>Mizoram</td>\n",
       "    </tr>\n",
       "    <tr>\n",
       "      <th>Chandigarh</th>\n",
       "      <td>16</td>\n",
       "      <td>92</td>\n",
       "      <td>2</td>\n",
       "      <td>Chandigarh</td>\n",
       "    </tr>\n",
       "    <tr>\n",
       "      <th>Nagaland</th>\n",
       "      <td>12</td>\n",
       "      <td>142</td>\n",
       "      <td>4</td>\n",
       "      <td>Nagaland</td>\n",
       "    </tr>\n",
       "    <tr>\n",
       "      <th>Delhi</th>\n",
       "      <td>55</td>\n",
       "      <td>261</td>\n",
       "      <td>5</td>\n",
       "      <td>Delhi</td>\n",
       "    </tr>\n",
       "    <tr>\n",
       "      <th>Puducherry</th>\n",
       "      <td>13</td>\n",
       "      <td>38</td>\n",
       "      <td>6</td>\n",
       "      <td>Puducherry</td>\n",
       "    </tr>\n",
       "    <tr>\n",
       "      <th>Meghalaya</th>\n",
       "      <td>25</td>\n",
       "      <td>213</td>\n",
       "      <td>6</td>\n",
       "      <td>Meghalaya</td>\n",
       "    </tr>\n",
       "    <tr>\n",
       "      <th>Daman and Diu</th>\n",
       "      <td>18</td>\n",
       "      <td>35</td>\n",
       "      <td>7</td>\n",
       "      <td>Daman and Diu</td>\n",
       "    </tr>\n",
       "    <tr>\n",
       "      <th>Bihar</th>\n",
       "      <td>40</td>\n",
       "      <td>181</td>\n",
       "      <td>7</td>\n",
       "      <td>Bihar</td>\n",
       "    </tr>\n",
       "    <tr>\n",
       "      <th>Jammu and Kashmir</th>\n",
       "      <td>15</td>\n",
       "      <td>115</td>\n",
       "      <td>7</td>\n",
       "      <td>Jammu and Kashmir</td>\n",
       "    </tr>\n",
       "    <tr>\n",
       "      <th>Dadra and Nagar Haveli</th>\n",
       "      <td>18</td>\n",
       "      <td>39</td>\n",
       "      <td>7</td>\n",
       "      <td>Dadra and Nagar Haveli</td>\n",
       "    </tr>\n",
       "    <tr>\n",
       "      <th>HimachalPradesh</th>\n",
       "      <td>105</td>\n",
       "      <td>615</td>\n",
       "      <td>20</td>\n",
       "      <td>HimachalPradesh</td>\n",
       "    </tr>\n",
       "    <tr>\n",
       "      <th>Uttarakhand</th>\n",
       "      <td>30</td>\n",
       "      <td>162</td>\n",
       "      <td>28</td>\n",
       "      <td>Uttarakhand</td>\n",
       "    </tr>\n",
       "    <tr>\n",
       "      <th>Rajasthan</th>\n",
       "      <td>146</td>\n",
       "      <td>818</td>\n",
       "      <td>36</td>\n",
       "      <td>Rajasthan</td>\n",
       "    </tr>\n",
       "    <tr>\n",
       "      <th>Chattisgarh</th>\n",
       "      <td>86</td>\n",
       "      <td>502</td>\n",
       "      <td>37</td>\n",
       "      <td>Chattisgarh</td>\n",
       "    </tr>\n",
       "    <tr>\n",
       "      <th>Orissa</th>\n",
       "      <td>154</td>\n",
       "      <td>728</td>\n",
       "      <td>37</td>\n",
       "      <td>Orissa</td>\n",
       "    </tr>\n",
       "    <tr>\n",
       "      <th>Kerala</th>\n",
       "      <td>132</td>\n",
       "      <td>463</td>\n",
       "      <td>37</td>\n",
       "      <td>Kerala</td>\n",
       "    </tr>\n",
       "    <tr>\n",
       "      <th>Haryana</th>\n",
       "      <td>63</td>\n",
       "      <td>520</td>\n",
       "      <td>38</td>\n",
       "      <td>Haryana</td>\n",
       "    </tr>\n",
       "    <tr>\n",
       "      <th>Tamilnadu</th>\n",
       "      <td>105</td>\n",
       "      <td>388</td>\n",
       "      <td>45</td>\n",
       "      <td>Tamilnadu</td>\n",
       "    </tr>\n",
       "    <tr>\n",
       "      <th>Karnataka</th>\n",
       "      <td>130</td>\n",
       "      <td>416</td>\n",
       "      <td>51</td>\n",
       "      <td>Karnataka</td>\n",
       "    </tr>\n",
       "    <tr>\n",
       "      <th>Andhra Pradesh</th>\n",
       "      <td>183</td>\n",
       "      <td>893</td>\n",
       "      <td>60</td>\n",
       "      <td>Andhra Pradesh</td>\n",
       "    </tr>\n",
       "    <tr>\n",
       "      <th>Assam</th>\n",
       "      <td>177</td>\n",
       "      <td>834</td>\n",
       "      <td>74</td>\n",
       "      <td>Assam</td>\n",
       "    </tr>\n",
       "    <tr>\n",
       "      <th>West Bengal</th>\n",
       "      <td>579</td>\n",
       "      <td>1018</td>\n",
       "      <td>90</td>\n",
       "      <td>West Bengal</td>\n",
       "    </tr>\n",
       "    <tr>\n",
       "      <th>Punjab</th>\n",
       "      <td>257</td>\n",
       "      <td>1723</td>\n",
       "      <td>101</td>\n",
       "      <td>Punjab</td>\n",
       "    </tr>\n",
       "    <tr>\n",
       "      <th>MadhyaPradesh</th>\n",
       "      <td>178</td>\n",
       "      <td>1275</td>\n",
       "      <td>102</td>\n",
       "      <td>MadhyaPradesh</td>\n",
       "    </tr>\n",
       "    <tr>\n",
       "      <th>Gujarat</th>\n",
       "      <td>166</td>\n",
       "      <td>621</td>\n",
       "      <td>105</td>\n",
       "      <td>Gujarat</td>\n",
       "    </tr>\n",
       "    <tr>\n",
       "      <th>Goa</th>\n",
       "      <td>217</td>\n",
       "      <td>893</td>\n",
       "      <td>118</td>\n",
       "      <td>Goa</td>\n",
       "    </tr>\n",
       "    <tr>\n",
       "      <th>Jharkhand</th>\n",
       "      <td>271</td>\n",
       "      <td>1391</td>\n",
       "      <td>158</td>\n",
       "      <td>Jharkhand</td>\n",
       "    </tr>\n",
       "    <tr>\n",
       "      <th>UttarPradesh</th>\n",
       "      <td>418</td>\n",
       "      <td>2440</td>\n",
       "      <td>189</td>\n",
       "      <td>UttarPradesh</td>\n",
       "    </tr>\n",
       "    <tr>\n",
       "      <th>Maharashtra</th>\n",
       "      <td>619</td>\n",
       "      <td>1834</td>\n",
       "      <td>368</td>\n",
       "      <td>Maharashtra</td>\n",
       "    </tr>\n",
       "  </tbody>\n",
       "</table>\n",
       "</div>"
      ],
      "text/plain": [
       "                        NO2  PM10  SO2                   STATE\n",
       "State                                                         \n",
       "Mizoram                   6    42    2                 Mizoram\n",
       "Chandigarh               16    92    2              Chandigarh\n",
       "Nagaland                 12   142    4                Nagaland\n",
       "Delhi                    55   261    5                   Delhi\n",
       "Puducherry               13    38    6              Puducherry\n",
       "Meghalaya                25   213    6               Meghalaya\n",
       "Daman and Diu            18    35    7           Daman and Diu\n",
       "Bihar                    40   181    7                   Bihar\n",
       "Jammu and Kashmir        15   115    7       Jammu and Kashmir\n",
       "Dadra and Nagar Haveli   18    39    7  Dadra and Nagar Haveli\n",
       "HimachalPradesh         105   615   20         HimachalPradesh\n",
       "Uttarakhand              30   162   28             Uttarakhand\n",
       "Rajasthan               146   818   36               Rajasthan\n",
       "Chattisgarh              86   502   37             Chattisgarh\n",
       "Orissa                  154   728   37                  Orissa\n",
       "Kerala                  132   463   37                  Kerala\n",
       "Haryana                  63   520   38                 Haryana\n",
       "Tamilnadu               105   388   45               Tamilnadu\n",
       "Karnataka               130   416   51               Karnataka\n",
       "Andhra Pradesh          183   893   60          Andhra Pradesh\n",
       "Assam                   177   834   74                   Assam\n",
       "West Bengal             579  1018   90             West Bengal\n",
       "Punjab                  257  1723  101                  Punjab\n",
       "MadhyaPradesh           178  1275  102           MadhyaPradesh\n",
       "Gujarat                 166   621  105                 Gujarat\n",
       "Goa                     217   893  118                     Goa\n",
       "Jharkhand               271  1391  158               Jharkhand\n",
       "UttarPradesh            418  2440  189            UttarPradesh\n",
       "Maharashtra             619  1834  368             Maharashtra"
      ]
     },
     "execution_count": 119,
     "metadata": {},
     "output_type": "execute_result"
    }
   ],
   "source": [
    "b = df.groupby('State').sum().sort_values('SO2')\n",
    "b['STATE'] = b.index\n",
    "b\n"
   ]
  },
  {
   "cell_type": "code",
   "execution_count": 120,
   "id": "d7953b60",
   "metadata": {},
   "outputs": [
    {
     "data": {
      "text/html": [
       "<div>\n",
       "<style scoped>\n",
       "    .dataframe tbody tr th:only-of-type {\n",
       "        vertical-align: middle;\n",
       "    }\n",
       "\n",
       "    .dataframe tbody tr th {\n",
       "        vertical-align: top;\n",
       "    }\n",
       "\n",
       "    .dataframe thead th {\n",
       "        text-align: right;\n",
       "    }\n",
       "</style>\n",
       "<table border=\"1\" class=\"dataframe\">\n",
       "  <thead>\n",
       "    <tr style=\"text-align: right;\">\n",
       "      <th></th>\n",
       "      <th>NO2</th>\n",
       "      <th>PM10</th>\n",
       "      <th>SO2</th>\n",
       "      <th>STATE</th>\n",
       "    </tr>\n",
       "    <tr>\n",
       "      <th>State</th>\n",
       "      <th></th>\n",
       "      <th></th>\n",
       "      <th></th>\n",
       "      <th></th>\n",
       "    </tr>\n",
       "  </thead>\n",
       "  <tbody>\n",
       "    <tr>\n",
       "      <th>Daman and Diu</th>\n",
       "      <td>18</td>\n",
       "      <td>35</td>\n",
       "      <td>7</td>\n",
       "      <td>Daman and Diu</td>\n",
       "    </tr>\n",
       "    <tr>\n",
       "      <th>Puducherry</th>\n",
       "      <td>13</td>\n",
       "      <td>38</td>\n",
       "      <td>6</td>\n",
       "      <td>Puducherry</td>\n",
       "    </tr>\n",
       "    <tr>\n",
       "      <th>Dadra and Nagar Haveli</th>\n",
       "      <td>18</td>\n",
       "      <td>39</td>\n",
       "      <td>7</td>\n",
       "      <td>Dadra and Nagar Haveli</td>\n",
       "    </tr>\n",
       "    <tr>\n",
       "      <th>Mizoram</th>\n",
       "      <td>6</td>\n",
       "      <td>42</td>\n",
       "      <td>2</td>\n",
       "      <td>Mizoram</td>\n",
       "    </tr>\n",
       "    <tr>\n",
       "      <th>Chandigarh</th>\n",
       "      <td>16</td>\n",
       "      <td>92</td>\n",
       "      <td>2</td>\n",
       "      <td>Chandigarh</td>\n",
       "    </tr>\n",
       "    <tr>\n",
       "      <th>Jammu and Kashmir</th>\n",
       "      <td>15</td>\n",
       "      <td>115</td>\n",
       "      <td>7</td>\n",
       "      <td>Jammu and Kashmir</td>\n",
       "    </tr>\n",
       "    <tr>\n",
       "      <th>Nagaland</th>\n",
       "      <td>12</td>\n",
       "      <td>142</td>\n",
       "      <td>4</td>\n",
       "      <td>Nagaland</td>\n",
       "    </tr>\n",
       "    <tr>\n",
       "      <th>Uttarakhand</th>\n",
       "      <td>30</td>\n",
       "      <td>162</td>\n",
       "      <td>28</td>\n",
       "      <td>Uttarakhand</td>\n",
       "    </tr>\n",
       "    <tr>\n",
       "      <th>Bihar</th>\n",
       "      <td>40</td>\n",
       "      <td>181</td>\n",
       "      <td>7</td>\n",
       "      <td>Bihar</td>\n",
       "    </tr>\n",
       "    <tr>\n",
       "      <th>Meghalaya</th>\n",
       "      <td>25</td>\n",
       "      <td>213</td>\n",
       "      <td>6</td>\n",
       "      <td>Meghalaya</td>\n",
       "    </tr>\n",
       "    <tr>\n",
       "      <th>Delhi</th>\n",
       "      <td>55</td>\n",
       "      <td>261</td>\n",
       "      <td>5</td>\n",
       "      <td>Delhi</td>\n",
       "    </tr>\n",
       "    <tr>\n",
       "      <th>Tamilnadu</th>\n",
       "      <td>105</td>\n",
       "      <td>388</td>\n",
       "      <td>45</td>\n",
       "      <td>Tamilnadu</td>\n",
       "    </tr>\n",
       "    <tr>\n",
       "      <th>Karnataka</th>\n",
       "      <td>130</td>\n",
       "      <td>416</td>\n",
       "      <td>51</td>\n",
       "      <td>Karnataka</td>\n",
       "    </tr>\n",
       "    <tr>\n",
       "      <th>Kerala</th>\n",
       "      <td>132</td>\n",
       "      <td>463</td>\n",
       "      <td>37</td>\n",
       "      <td>Kerala</td>\n",
       "    </tr>\n",
       "    <tr>\n",
       "      <th>Chattisgarh</th>\n",
       "      <td>86</td>\n",
       "      <td>502</td>\n",
       "      <td>37</td>\n",
       "      <td>Chattisgarh</td>\n",
       "    </tr>\n",
       "    <tr>\n",
       "      <th>Haryana</th>\n",
       "      <td>63</td>\n",
       "      <td>520</td>\n",
       "      <td>38</td>\n",
       "      <td>Haryana</td>\n",
       "    </tr>\n",
       "    <tr>\n",
       "      <th>HimachalPradesh</th>\n",
       "      <td>105</td>\n",
       "      <td>615</td>\n",
       "      <td>20</td>\n",
       "      <td>HimachalPradesh</td>\n",
       "    </tr>\n",
       "    <tr>\n",
       "      <th>Gujarat</th>\n",
       "      <td>166</td>\n",
       "      <td>621</td>\n",
       "      <td>105</td>\n",
       "      <td>Gujarat</td>\n",
       "    </tr>\n",
       "    <tr>\n",
       "      <th>Orissa</th>\n",
       "      <td>154</td>\n",
       "      <td>728</td>\n",
       "      <td>37</td>\n",
       "      <td>Orissa</td>\n",
       "    </tr>\n",
       "    <tr>\n",
       "      <th>Rajasthan</th>\n",
       "      <td>146</td>\n",
       "      <td>818</td>\n",
       "      <td>36</td>\n",
       "      <td>Rajasthan</td>\n",
       "    </tr>\n",
       "    <tr>\n",
       "      <th>Assam</th>\n",
       "      <td>177</td>\n",
       "      <td>834</td>\n",
       "      <td>74</td>\n",
       "      <td>Assam</td>\n",
       "    </tr>\n",
       "    <tr>\n",
       "      <th>Andhra Pradesh</th>\n",
       "      <td>183</td>\n",
       "      <td>893</td>\n",
       "      <td>60</td>\n",
       "      <td>Andhra Pradesh</td>\n",
       "    </tr>\n",
       "    <tr>\n",
       "      <th>Goa</th>\n",
       "      <td>217</td>\n",
       "      <td>893</td>\n",
       "      <td>118</td>\n",
       "      <td>Goa</td>\n",
       "    </tr>\n",
       "    <tr>\n",
       "      <th>West Bengal</th>\n",
       "      <td>579</td>\n",
       "      <td>1018</td>\n",
       "      <td>90</td>\n",
       "      <td>West Bengal</td>\n",
       "    </tr>\n",
       "    <tr>\n",
       "      <th>MadhyaPradesh</th>\n",
       "      <td>178</td>\n",
       "      <td>1275</td>\n",
       "      <td>102</td>\n",
       "      <td>MadhyaPradesh</td>\n",
       "    </tr>\n",
       "    <tr>\n",
       "      <th>Jharkhand</th>\n",
       "      <td>271</td>\n",
       "      <td>1391</td>\n",
       "      <td>158</td>\n",
       "      <td>Jharkhand</td>\n",
       "    </tr>\n",
       "    <tr>\n",
       "      <th>Punjab</th>\n",
       "      <td>257</td>\n",
       "      <td>1723</td>\n",
       "      <td>101</td>\n",
       "      <td>Punjab</td>\n",
       "    </tr>\n",
       "    <tr>\n",
       "      <th>Maharashtra</th>\n",
       "      <td>619</td>\n",
       "      <td>1834</td>\n",
       "      <td>368</td>\n",
       "      <td>Maharashtra</td>\n",
       "    </tr>\n",
       "    <tr>\n",
       "      <th>UttarPradesh</th>\n",
       "      <td>418</td>\n",
       "      <td>2440</td>\n",
       "      <td>189</td>\n",
       "      <td>UttarPradesh</td>\n",
       "    </tr>\n",
       "  </tbody>\n",
       "</table>\n",
       "</div>"
      ],
      "text/plain": [
       "                        NO2  PM10  SO2                   STATE\n",
       "State                                                         \n",
       "Daman and Diu            18    35    7           Daman and Diu\n",
       "Puducherry               13    38    6              Puducherry\n",
       "Dadra and Nagar Haveli   18    39    7  Dadra and Nagar Haveli\n",
       "Mizoram                   6    42    2                 Mizoram\n",
       "Chandigarh               16    92    2              Chandigarh\n",
       "Jammu and Kashmir        15   115    7       Jammu and Kashmir\n",
       "Nagaland                 12   142    4                Nagaland\n",
       "Uttarakhand              30   162   28             Uttarakhand\n",
       "Bihar                    40   181    7                   Bihar\n",
       "Meghalaya                25   213    6               Meghalaya\n",
       "Delhi                    55   261    5                   Delhi\n",
       "Tamilnadu               105   388   45               Tamilnadu\n",
       "Karnataka               130   416   51               Karnataka\n",
       "Kerala                  132   463   37                  Kerala\n",
       "Chattisgarh              86   502   37             Chattisgarh\n",
       "Haryana                  63   520   38                 Haryana\n",
       "HimachalPradesh         105   615   20         HimachalPradesh\n",
       "Gujarat                 166   621  105                 Gujarat\n",
       "Orissa                  154   728   37                  Orissa\n",
       "Rajasthan               146   818   36               Rajasthan\n",
       "Assam                   177   834   74                   Assam\n",
       "Andhra Pradesh          183   893   60          Andhra Pradesh\n",
       "Goa                     217   893  118                     Goa\n",
       "West Bengal             579  1018   90             West Bengal\n",
       "MadhyaPradesh           178  1275  102           MadhyaPradesh\n",
       "Jharkhand               271  1391  158               Jharkhand\n",
       "Punjab                  257  1723  101                  Punjab\n",
       "Maharashtra             619  1834  368             Maharashtra\n",
       "UttarPradesh            418  2440  189            UttarPradesh"
      ]
     },
     "execution_count": 120,
     "metadata": {},
     "output_type": "execute_result"
    }
   ],
   "source": [
    "c = df.groupby('State').sum().sort_values('PM10')\n",
    "c['STATE'] = c.index\n",
    "c\n"
   ]
  },
  {
   "cell_type": "code",
   "execution_count": 121,
   "id": "2a151612",
   "metadata": {},
   "outputs": [
    {
     "data": {
      "image/png": "[encoded data removed]",
      "text/plain": [
       "<Figure size 432x288 with 1 Axes>"
      ]
     },
     "metadata": {
      "needs_background": "light"
     },
     "output_type": "display_data"
    }
   ],
   "source": [
    "x = a['STATE']\n",
    "damn = df.groupby('State').sum().sort_values('NO2')['NO2']\n",
    "\n",
    "\n",
    "\n",
    "plt.plot(x,damn) ## grouping and using the count functionality then.\n",
    "## for grid for bettter reaibility\n",
    "plt.xticks(x,rotation='vertical')\n",
    "plt.ylabel('NO2 levels')\n",
    "plt.xlabel('STATE')\n",
    "plt.grid()"
   ]
  },
  {
   "cell_type": "code",
   "execution_count": 122,
   "id": "73174c44",
   "metadata": {},
   "outputs": [
    {
     "data": {
      "image/png": "[encoded data removed]",
      "text/plain": [
       "<Figure size 432x288 with 1 Axes>"
      ]
     },
     "metadata": {
      "needs_background": "light"
     },
     "output_type": "display_data"
    }
   ],
   "source": [
    "z = b['STATE']\n",
    "damn = df.groupby('State').sum().sort_values('SO2')['SO2']\n",
    "\n",
    "\n",
    "\n",
    "plt.plot(z,damn) ## grouping and using the count functionality then.\n",
    "## for grid for bettter reaibility\n",
    "plt.xticks(z,rotation='vertical')\n",
    "plt.ylabel('SO2 levels')\n",
    "plt.xlabel('STATE')\n",
    "plt.grid()"
   ]
  },
  {
   "cell_type": "code",
   "execution_count": 123,
   "id": "5fb64dff",
   "metadata": {},
   "outputs": [
    {
     "data": {
      "image/png": "[encoded data removed]",
      "text/plain": [
       "<Figure size 432x288 with 1 Axes>"
      ]
     },
     "metadata": {
      "needs_background": "light"
     },
     "output_type": "display_data"
    }
   ],
   "source": [
    "t = c['STATE']\n",
    "damn = df.groupby('State').sum().sort_values('PM10')['PM10']\n",
    "\n",
    "\n",
    "\n",
    "plt.plot(t,damn) ## grouping and using the count functionality then.\n",
    "## for grid for bettter reaibility\n",
    "plt.xticks(t,rotation='vertical')\n",
    "plt.ylabel('PM10 levels')\n",
    "plt.xlabel('STATE')\n",
    "plt.grid()"
   ]
  },
  {
   "cell_type": "markdown",
   "id": "b86653f1",
   "metadata": {},
   "source": [
    "# The concepts used above are highly advanced and provide a great uptrend of the three properties."
   ]
  },
  {
   "cell_type": "code",
   "execution_count": null,
   "id": "11ba1dbf",
   "metadata": {},
   "outputs": [],
   "source": []
  },
  {
   "cell_type": "code",
   "execution_count": null,
   "id": "5c96680d",
   "metadata": {},
   "outputs": [],
   "source": []
  },
  {
   "cell_type": "markdown",
   "id": "9df33b1c",
   "metadata": {},
   "source": [
    "## Now making a scatter plot between NO2 and SO2 levels, with the scatters/dots providing the labels of STATES."
   ]
  },
  {
   "cell_type": "code",
   "execution_count": 131,
   "id": "0acbe8b5",
   "metadata": {},
   "outputs": [
    {
     "data": {
      "text/plain": [
       "<matplotlib.legend.Legend at 0x232e4d2a3a0>"
      ]
     },
     "execution_count": 131,
     "metadata": {},
     "output_type": "execute_result"
    },
    {
     "data": {
      "image/png": "[encoded data removed]",
      "text/plain": [
       "<Figure size 1080x1080 with 1 Axes>"
      ]
     },
     "metadata": {
      "needs_background": "light"
     },
     "output_type": "display_data"
    }
   ],
   "source": [
    "plt.figure(figsize=(15,15))\n",
    "sns.scatterplot(x=df['SO2'],y=df['NO2'],hue=df['State'],data=df)\n",
    "plt.legend(loc=1)"
   ]
  },
  {
   "cell_type": "code",
   "execution_count": null,
   "id": "1cbb1ca6",
   "metadata": {},
   "outputs": [],
   "source": []
  }
 ],
 "metadata": {
  "kernelspec": {
   "display_name": "Python 3 (ipykernel)",
   "language": "python",
   "name": "python3"
  },
  "language_info": {
   "codemirror_mode": {
    "name": "ipython",
    "version": 3
   },
   "file_extension": ".py",
   "mimetype": "text/x-python",
   "name": "python",
   "nbconvert_exporter": "python",
   "pygments_lexer": "ipython3",
   "version": "3.9.7"
  }
 },
 "nbformat": 4,
 "nbformat_minor": 5
}
